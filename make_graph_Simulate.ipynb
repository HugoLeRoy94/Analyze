{
 "cells": [
  {
   "cell_type": "markdown",
   "metadata": {},
   "source": [
    "# $k_{diff}$ vs $F_f$ graph\n",
    "\n"
   ]
  },
  {
   "cell_type": "code",
   "execution_count": 1,
   "metadata": {},
   "outputs": [],
   "source": [
    "import importlib\n",
    "import numpy as np\n",
    "import sys\n",
    "sys.path.append('/home/hcleroy/PostDoc/aging_condensates/Simulation/Parallel_Simulation')\n",
    "\n",
    "import Parallel_Run\n",
    "importlib.reload(Parallel_Run)\n",
    "\n",
    "Ec = lambda L,N : 3/2*np.log(L/N* np.pi/3)\n",
    "import cProfile\n",
    "import re"
   ]
  },
  {
   "cell_type": "markdown",
   "metadata": {},
   "source": [
    "# data"
   ]
  },
  {
   "cell_type": "code",
   "execution_count": 2,
   "metadata": {},
   "outputs": [],
   "source": [
    "media = \"/media/hcleroy/Simulation_Res/Parallel_Simulation_aging/make_graph/N3/\"\n",
    "import numpy as np\n",
    "from Cluster import Cluster\n",
    "from ISF import ISF\n",
    "from MSD import MSD\n",
    "from Energy import NRG\n",
    "from PCF import PCF\n",
    "from PCF import PCF_L\n",
    "from Time import Time\n",
    "\n",
    "# gillespie parameter\n",
    "Nlinker = 3\n",
    "ell_tot = 10**3\n",
    "kdiff = 1./ell_tot\n",
    "Energy = -15\n",
    "\n",
    "Nprocess = 100\n",
    "seeds = set()\n",
    "while len(seeds) < Nprocess:\n",
    "    seeds.add(np.random.randint(1000000))\n",
    "seeds = list(seeds)\n",
    "args = [[ell_tot,Energy,kdiff,seeds[_],Nlinker,3] for _ in range(Nprocess)]\n",
    "\n",
    "# argument of the different classes\n",
    "cluster_arg = tuple([3.]) # max distance\n",
    "MSD_arg = () # no argument \n",
    "ISF_arg = (0.5,10) # q_norm, q_num_sample\n",
    "NRG_arg = ()\n",
    "PCF_arg = (np.sqrt(ell_tot)/2,50) # max_distance,numb_bin\n",
    "PCF_L_arg = (ell_tot,30) # max_distance,numb_bin\n",
    "Time_arg = ()\n",
    "\n",
    "measurement_args = {\n",
    "    'cluster': (Cluster, cluster_arg),\n",
    "    'MSD': (MSD, MSD_arg),\n",
    "    'ISF': (ISF, ISF_arg),\n",
    "    'PCF':(PCF,PCF_arg),\n",
    "    'PCF_L':(PCF_L,PCF_L_arg),\n",
    "    'NRG':(NRG,NRG_arg)#,\n",
    "    #'Time':(Time,Time_arg)\n",
    "    # Add other measurements as needed\n",
    "}\n",
    "\n",
    "measurement_flags = {\n",
    "    'NRG':True,\n",
    "    'cluster': False,\n",
    "    'MSD': False,\n",
    "    'ISF': False,\n",
    "    'PCF':False,\n",
    "    'PCF_L':False#,\n",
    "    #'Time':True\n",
    "    # Set each measurement to True/False as desired\n",
    "}\n",
    "\n",
    "# Simulation parameters\n",
    "step_tot = 1*10**5\n",
    "#check_steps = 10**2\n",
    "initial_check_steps = 10**4\n",
    "coarse_grained_step = 10**1\n",
    "log_base=1.5\n",
    "\n",
    "#energies = [-15,-15,-15,-15,-10,-10,-10,-20]\n",
    "#kdiffs = [1/ell_tot,0.1/ell_tot,0.01/ell_tot,0.001/ell_tot,1/ell_tot,0.1/ell_tot,0.01/ell_tot,1/ell_tot]\n",
    "#step_tots = [10**5,10**5,2*10**5,5*10**5,10**5,10**5,2*10**5,10**5]\n",
    "#names = ['ksL_1','ksL_01','ksL_001','ksL_0001','ksL_1E10','ksL_01E10','ksL_001E10','ksL_1E20']"
   ]
  },
  {
   "cell_type": "code",
   "execution_count": 8,
   "metadata": {},
   "outputs": [],
   "source": [
    "energies = [-15,-15,-20,-20,-100,-100]\n",
    "energies = [-100,-100]\n",
    "kdiffs = [1/ell_tot,0.1/ell_tot,1/ell_tot,0.1/ell_tot,1/ell_tot,0.1/ell_tot]\n",
    "step_tots = [10**5 for _ in range(6)]\n",
    "names = ['1_100','01_100','1_20','01_20','1_30','01_30']"
   ]
  },
  {
   "cell_type": "code",
   "execution_count": 5,
   "metadata": {},
   "outputs": [
    {
     "data": {
      "text/plain": [
       "6"
      ]
     },
     "execution_count": 5,
     "metadata": {},
     "output_type": "execute_result"
    }
   ],
   "source": [
    "names.__len__()"
   ]
  },
  {
   "cell_type": "code",
   "execution_count": 9,
   "metadata": {},
   "outputs": [],
   "source": [
    "for n in [0,1]:\n",
    "    step_tot = step_tots[n]\n",
    "    Energy = energies[n]\n",
    "    kdiff= kdiffs[n]\n",
    "#kdiff = 1./10**3\n",
    "#step_tot = 10**5\n",
    "#Energy = -25\n",
    "#name = 'ksL_1E25'\n",
    "    args = [[ell_tot,Energy,kdiff,seeds[_],Nlinker,3] for _ in range(Nprocess)]\n",
    "    Parallel_Run.parallel_evolution(args,step_tot,initial_check_steps,coarse_grained_step,media+names[n]+'.hdf',\n",
    "                                    measurement_args,measurement_flags,log_base)"
   ]
  },
  {
   "cell_type": "code",
   "execution_count": null,
   "metadata": {},
   "outputs": [],
   "source": []
  }
 ],
 "metadata": {
  "kernelspec": {
   "display_name": "base",
   "language": "python",
   "name": "python3"
  },
  "language_info": {
   "codemirror_mode": {
    "name": "ipython",
    "version": 3
   },
   "file_extension": ".py",
   "mimetype": "text/x-python",
   "name": "python",
   "nbconvert_exporter": "python",
   "pygments_lexer": "ipython3",
   "version": "3.8.8"
  }
 },
 "nbformat": 4,
 "nbformat_minor": 2
}

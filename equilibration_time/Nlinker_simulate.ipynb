{
 "cells": [
  {
   "cell_type": "code",
   "execution_count": 12,
   "metadata": {},
   "outputs": [],
   "source": [
    "import importlib\n",
    "import numpy as np\n",
    "import matplotlib.pyplot as plt\n",
    "import sys\n",
    "sys.path.append('/home/hcleroy/PostDoc/aging_condensates/Simulation/Parallel_Simulation')\n",
    "\n",
    "import Parallel_Run\n",
    "importlib.reload(Parallel_Run)\n",
    "\n",
    "\n",
    "media = \"/media/hcleroy/Simulation_Res/Parallel_Simulation_aging/time_equilibration_Nlinker/\"\n",
    "\n",
    "Ec = lambda L,N : 3/2*np.log(L/N* np.pi/3)\n",
    "import cProfile\n",
    "import re\n"
   ]
  },
  {
   "cell_type": "code",
   "execution_count": 4,
   "metadata": {},
   "outputs": [
    {
     "name": "stdout",
     "output_type": "stream",
     "text": [
      "2.6696353742394026\n",
      "3.6514837167011076\n"
     ]
    }
   ],
   "source": [
    "import data_1_in\n",
    "importlib.reload(data_1_in)\n",
    "from data_1_in import *"
   ]
  },
  {
   "cell_type": "code",
   "execution_count": 3,
   "metadata": {},
   "outputs": [
    {
     "name": "stdout",
     "output_type": "stream",
     "text": [
      "13.0672584658866\n",
      "[1000, 1500, 2250, 3380, 5060, 7590, 11390, 17090, 25630, 38440, 57670, 86500, 129750, 200000]\n"
     ]
    }
   ],
   "source": [
    "if log_base:\n",
    "    max_exponent = np.log(step_tot / initial_check_steps) / np.log(log_base)\n",
    "    print(max_exponent)\n",
    "    check_points = [int(round((initial_check_steps * log_base ** i) / coarse_grained_step) * coarse_grained_step)\n",
    "                    for i in range(int(max_exponent) + 1)]\n",
    "else:\n",
    "    check_points = [int(round(initial_check_steps / coarse_grained_step * i) * coarse_grained_step)\n",
    "                    for i in range(step_tot // initial_check_steps)]\n",
    "if check_points[-1] != step_tot:\n",
    "    check_points[-1] = step_tot\n",
    "check_points = list(set(check_points))\n",
    "check_points.sort()\n",
    "print(check_points)"
   ]
  },
  {
   "cell_type": "code",
   "execution_count": 5,
   "metadata": {},
   "outputs": [],
   "source": [
    "Parallel_Run.parallel_evolution(args,step_tot,initial_check_steps,coarse_grained_step,media+'test_cluster.hdf',\n",
    "                                measurement_args,measurement_flags,log_base)"
   ]
  },
  {
   "cell_type": "code",
   "execution_count": null,
   "metadata": {},
   "outputs": [],
   "source": []
  },
  {
   "cell_type": "code",
   "execution_count": 3,
   "metadata": {},
   "outputs": [
    {
     "ename": "TypeError",
     "evalue": "parallel_evolution() takes 8 positional arguments but 12 were given",
     "output_type": "error",
     "traceback": [
      "\u001b[0;31m---------------------------------------------------------------------------\u001b[0m",
      "\u001b[0;31mTypeError\u001b[0m                                 Traceback (most recent call last)",
      "Cell \u001b[0;32mIn[3], line 4\u001b[0m\n\u001b[1;32m      2\u001b[0m \u001b[38;5;66;03m#step_tot = 2*step_tot\u001b[39;00m\n\u001b[1;32m      3\u001b[0m args \u001b[38;5;241m=\u001b[39m [[ell_tot,Energy,kdiff,seeds[_],Nlinker,\u001b[38;5;241m3\u001b[39m] \u001b[38;5;28;01mfor\u001b[39;00m _ \u001b[38;5;129;01min\u001b[39;00m \u001b[38;5;28mrange\u001b[39m(Nprocess)]\n\u001b[0;32m----> 4\u001b[0m \u001b[43mParallel_Run\u001b[49m\u001b[38;5;241;43m.\u001b[39;49m\u001b[43mparallel_evolution\u001b[49m\u001b[43m(\u001b[49m\u001b[43margs\u001b[49m\u001b[43m,\u001b[49m\u001b[43mstep_tot\u001b[49m\u001b[43m,\u001b[49m\u001b[43minitial_check_steps\u001b[49m\u001b[43m,\u001b[49m\u001b[43mcoarse_grained_step\u001b[49m\u001b[43m,\u001b[49m\u001b[43mmedia\u001b[49m\u001b[38;5;241;43m+\u001b[39;49m\u001b[38;5;124;43m'\u001b[39;49m\u001b[38;5;124;43mN5.hdf\u001b[39;49m\u001b[38;5;124;43m'\u001b[39;49m\u001b[43m,\u001b[49m\n\u001b[1;32m      5\u001b[0m \u001b[43m                                \u001b[49m\u001b[43mcluster_arg\u001b[49m\u001b[43m,\u001b[49m\u001b[43mMSD_arg\u001b[49m\u001b[43m,\u001b[49m\u001b[43mISF_arg\u001b[49m\u001b[43m,\u001b[49m\u001b[43mNRG_arg\u001b[49m\u001b[43m,\u001b[49m\u001b[43mPCF_arg\u001b[49m\u001b[43m,\u001b[49m\u001b[43mPCF_L_arg\u001b[49m\u001b[43m,\u001b[49m\u001b[43mlog_base\u001b[49m\u001b[43m)\u001b[49m\n",
      "\u001b[0;31mTypeError\u001b[0m: parallel_evolution() takes 8 positional arguments but 12 were given"
     ]
    }
   ],
   "source": [
    "Nlinker = 5\n",
    "#step_tot = 2*step_tot\n",
    "args = [[ell_tot,Energy,kdiff,seeds[_],Nlinker,3] for _ in range(Nprocess)]\n",
    "Parallel_Run.parallel_evolution(args,step_tot,initial_check_steps,coarse_grained_step,media+'N5.hdf',\n",
    "                                cluster_arg,MSD_arg,ISF_arg,NRG_arg,PCF_arg,PCF_L_arg,log_base)"
   ]
  },
  {
   "cell_type": "code",
   "execution_count": 4,
   "metadata": {},
   "outputs": [
    {
     "name": "stderr",
     "output_type": "stream",
     "text": [
      "Process Process-12:\n",
      "Process Process-8:\n",
      "Process Process-3:\n",
      "Process Process-7:\n",
      "Process Process-11:\n",
      "Process Process-5:\n",
      "Process Process-6:\n",
      "Process Process-4:\n",
      "Process Process-10:\n",
      "Process Process-13:\n",
      "Traceback (most recent call last):\n",
      "Traceback (most recent call last):\n",
      "Process Process-2:\n",
      "Traceback (most recent call last):\n",
      "Traceback (most recent call last):\n",
      "Traceback (most recent call last):\n",
      "Process Process-9:\n",
      "Traceback (most recent call last):\n",
      "  File \"/home/hcleroy/anaconda3/lib/python3.8/multiprocessing/process.py\", line 315, in _bootstrap\n",
      "    self.run()\n",
      "Traceback (most recent call last):\n",
      "Traceback (most recent call last):\n",
      "Traceback (most recent call last):\n",
      "  File \"/home/hcleroy/anaconda3/lib/python3.8/multiprocessing/process.py\", line 315, in _bootstrap\n",
      "    self.run()\n",
      "  File \"/home/hcleroy/anaconda3/lib/python3.8/multiprocessing/process.py\", line 315, in _bootstrap\n",
      "    self.run()\n",
      "Traceback (most recent call last):\n",
      "  File \"/home/hcleroy/anaconda3/lib/python3.8/multiprocessing/process.py\", line 108, in run\n",
      "    self._target(*self._args, **self._kwargs)\n",
      "  File \"/home/hcleroy/anaconda3/lib/python3.8/multiprocessing/process.py\", line 315, in _bootstrap\n",
      "    self.run()\n",
      "  File \"/home/hcleroy/anaconda3/lib/python3.8/multiprocessing/process.py\", line 315, in _bootstrap\n",
      "    self.run()\n",
      "  File \"/home/hcleroy/anaconda3/lib/python3.8/multiprocessing/process.py\", line 315, in _bootstrap\n",
      "    self.run()\n",
      "Traceback (most recent call last):\n",
      "  File \"/home/hcleroy/anaconda3/lib/python3.8/multiprocessing/process.py\", line 108, in run\n",
      "    self._target(*self._args, **self._kwargs)\n",
      "  File \"/home/hcleroy/anaconda3/lib/python3.8/multiprocessing/process.py\", line 315, in _bootstrap\n",
      "    self.run()\n",
      "  File \"/home/hcleroy/anaconda3/lib/python3.8/multiprocessing/process.py\", line 108, in run\n",
      "    self._target(*self._args, **self._kwargs)\n",
      "  File \"/home/hcleroy/anaconda3/lib/python3.8/multiprocessing/process.py\", line 315, in _bootstrap\n",
      "    self.run()\n",
      "  File \"/home/hcleroy/anaconda3/lib/python3.8/multiprocessing/process.py\", line 315, in _bootstrap\n",
      "    self.run()\n",
      "  File \"/home/hcleroy/anaconda3/lib/python3.8/multiprocessing/process.py\", line 108, in run\n",
      "    self._target(*self._args, **self._kwargs)\n",
      "  File \"/home/hcleroy/anaconda3/lib/python3.8/multiprocessing/process.py\", line 108, in run\n",
      "    self._target(*self._args, **self._kwargs)\n",
      "  File \"/home/hcleroy/anaconda3/lib/python3.8/multiprocessing/process.py\", line 108, in run\n",
      "    self._target(*self._args, **self._kwargs)\n",
      "  File \"../../Parallel_Run.py\", line 159, in run_simulation\n",
      "    compute(gillespie, output, step_tot, check_steps,coarse_grained_step,measurement_args,measurement_flags,log_base)\n",
      "  File \"../../Parallel_Run.py\", line 159, in run_simulation\n",
      "    compute(gillespie, output, step_tot, check_steps,coarse_grained_step,measurement_args,measurement_flags,log_base)\n",
      "  File \"/home/hcleroy/anaconda3/lib/python3.8/multiprocessing/process.py\", line 108, in run\n",
      "    self._target(*self._args, **self._kwargs)\n",
      "  File \"../../Parallel_Run.py\", line 159, in run_simulation\n",
      "    compute(gillespie, output, step_tot, check_steps,coarse_grained_step,measurement_args,measurement_flags,log_base)\n",
      "  File \"../../Parallel_Run.py\", line 159, in run_simulation\n",
      "    compute(gillespie, output, step_tot, check_steps,coarse_grained_step,measurement_args,measurement_flags,log_base)\n",
      "  File \"../../Parallel_Run.py\", line 159, in run_simulation\n",
      "    compute(gillespie, output, step_tot, check_steps,coarse_grained_step,measurement_args,measurement_flags,log_base)\n",
      "  File \"../../Parallel_Run.py\", line 159, in run_simulation\n",
      "    compute(gillespie, output, step_tot, check_steps,coarse_grained_step,measurement_args,measurement_flags,log_base)\n",
      "  File \"/home/hcleroy/anaconda3/lib/python3.8/multiprocessing/process.py\", line 108, in run\n",
      "    self._target(*self._args, **self._kwargs)\n",
      "  File \"/home/hcleroy/anaconda3/lib/python3.8/multiprocessing/process.py\", line 315, in _bootstrap\n",
      "    self.run()\n",
      "  File \"/home/hcleroy/anaconda3/lib/python3.8/multiprocessing/process.py\", line 108, in run\n",
      "    self._target(*self._args, **self._kwargs)\n",
      "  File \"../../Parallel_Run.py\", line 80, in compute\n",
      "    measurement.end_check_step(i,t)\n",
      "  File \"../../Parallel_Run.py\", line 80, in compute\n",
      "    measurement.end_check_step(i,t)\n",
      "Traceback (most recent call last):\n",
      "  File \"../../Parallel_Run.py\", line 80, in compute\n",
      "    measurement.end_check_step(i,t)\n",
      "  File \"/home/hcleroy/anaconda3/lib/python3.8/multiprocessing/process.py\", line 315, in _bootstrap\n",
      "    self.run()\n",
      "  File \"../../Parallel_Run.py\", line 80, in compute\n",
      "    measurement.end_check_step(i,t)\n",
      "  File \"../../Parallel_Run.py\", line 159, in run_simulation\n",
      "    compute(gillespie, output, step_tot, check_steps,coarse_grained_step,measurement_args,measurement_flags,log_base)\n",
      "  File \"../../Parallel_Run.py\", line 80, in compute\n",
      "    measurement.end_check_step(i,t)\n",
      "  File \"/home/hcleroy/anaconda3/lib/python3.8/multiprocessing/process.py\", line 108, in run\n",
      "    self._target(*self._args, **self._kwargs)\n",
      "  File \"../../Parallel_Run.py\", line 159, in run_simulation\n",
      "    compute(gillespie, output, step_tot, check_steps,coarse_grained_step,measurement_args,measurement_flags,log_base)\n",
      "  File \"../../Parallel_Run.py\", line 159, in run_simulation\n",
      "    compute(gillespie, output, step_tot, check_steps,coarse_grained_step,measurement_args,measurement_flags,log_base)\n",
      "UnboundLocalError: local variable 't' referenced before assignment\n",
      "UnboundLocalError: local variable 't' referenced before assignment\n",
      "  File \"../../Parallel_Run.py\", line 80, in compute\n",
      "    measurement.end_check_step(i,t)\n",
      "UnboundLocalError: local variable 't' referenced before assignment\n",
      "  File \"/home/hcleroy/anaconda3/lib/python3.8/multiprocessing/process.py\", line 315, in _bootstrap\n",
      "    self.run()\n",
      "  File \"/home/hcleroy/anaconda3/lib/python3.8/multiprocessing/process.py\", line 108, in run\n",
      "    self._target(*self._args, **self._kwargs)\n",
      "  File \"../../Parallel_Run.py\", line 159, in run_simulation\n",
      "    compute(gillespie, output, step_tot, check_steps,coarse_grained_step,measurement_args,measurement_flags,log_base)\n",
      "UnboundLocalError: local variable 't' referenced before assignment\n",
      "UnboundLocalError: local variable 't' referenced before assignment\n",
      "  File \"../../Parallel_Run.py\", line 80, in compute\n",
      "    measurement.end_check_step(i,t)\n",
      "  File \"../../Parallel_Run.py\", line 80, in compute\n",
      "    measurement.end_check_step(i,t)\n",
      "UnboundLocalError: local variable 't' referenced before assignment\n",
      "UnboundLocalError: local variable 't' referenced before assignment\n",
      "UnboundLocalError: local variable 't' referenced before assignment\n",
      "  File \"/home/hcleroy/anaconda3/lib/python3.8/multiprocessing/process.py\", line 108, in run\n",
      "    self._target(*self._args, **self._kwargs)\n",
      "  File \"../../Parallel_Run.py\", line 80, in compute\n",
      "    measurement.end_check_step(i,t)\n",
      "  File \"../../Parallel_Run.py\", line 80, in compute\n",
      "    measurement.end_check_step(i,t)\n",
      "  File \"../../Parallel_Run.py\", line 159, in run_simulation\n",
      "    compute(gillespie, output, step_tot, check_steps,coarse_grained_step,measurement_args,measurement_flags,log_base)\n",
      "  File \"../../Parallel_Run.py\", line 159, in run_simulation\n",
      "    compute(gillespie, output, step_tot, check_steps,coarse_grained_step,measurement_args,measurement_flags,log_base)\n",
      "  File \"../../Parallel_Run.py\", line 80, in compute\n",
      "    measurement.end_check_step(i,t)\n",
      "UnboundLocalError: local variable 't' referenced before assignment\n",
      "UnboundLocalError: local variable 't' referenced before assignment\n",
      "  File \"../../Parallel_Run.py\", line 80, in compute\n",
      "    measurement.end_check_step(i,t)\n",
      "UnboundLocalError: local variable 't' referenced before assignment\n",
      "UnboundLocalError: local variable 't' referenced before assignment\n"
     ]
    }
   ],
   "source": [
    "Nlinker = 20\n",
    "#Nprocess=200\n",
    "step_tot = 10**5\n",
    "args = [[ell_tot,Energy,kdiff,seeds[_],Nlinker,3] for _ in range(Nprocess)]\n",
    "Parallel_Run.parallel_evolution(args,step_tot,initial_check_steps,coarse_grained_step,media+'N20.hdf',\n",
    "                                measurement_args,measurement_flags,log_base)"
   ]
  },
  {
   "cell_type": "code",
   "execution_count": 8,
   "metadata": {},
   "outputs": [],
   "source": [
    "Nlinker = 2\n",
    "Nprocess=1000\n",
    "ell_tot = 10**4\n",
    "step_tot = 2*10**4\n",
    "args = [[ell_tot,Energy,kdiff,seeds[_],Nlinker,3] for _ in range(Nprocess)]\n",
    "Parallel_Run.parallel_evolution(args,step_tot,initial_check_steps,coarse_grained_step,media+'N2_LE4.hdf',\n",
    "                                cluster_arg,MSD_arg,ISF_arg,NRG_arg,PCF_arg,PCF_L_arg,log_base)"
   ]
  },
  {
   "cell_type": "code",
   "execution_count": 11,
   "metadata": {},
   "outputs": [],
   "source": [
    "Nlinker = 5\n",
    "Nprocess=1000\n",
    "step_tot = 2*10**4\n",
    "args = [[ell_tot,Energy,kdiff,seeds[_],Nlinker,3] for _ in range(Nprocess)]\n",
    "Parallel_Run.parallel_evolution(args,step_tot,initial_check_steps,coarse_grained_step,media+'N5_LE4.hdf',\n",
    "                                cluster_arg,MSD_arg,ISF_arg,NRG_arg,PCF_arg,PCF_L_arg,log_base)"
   ]
  },
  {
   "cell_type": "code",
   "execution_count": null,
   "metadata": {},
   "outputs": [],
   "source": [
    "Nlinker = 20\n",
    "step_tot = 2*10**5\n",
    "Nprocess = 100\n",
    "args = [[ell_tot,Energy,kdiff,seeds[_],Nlinker,3] for _ in range(Nprocess)]\n",
    "Parallel_Run.parallel_evolution(args,step_tot,initial_check_steps,coarse_grained_step,media+'N20_LE4.hdf',\n",
    "                                cluster_arg,MSD_arg,ISF_arg,NRG_arg,PCF_arg,PCF_L_arg,log_base)"
   ]
  },
  {
   "cell_type": "code",
   "execution_count": null,
   "metadata": {},
   "outputs": [],
   "source": []
  }
 ],
 "metadata": {
  "kernelspec": {
   "display_name": "base",
   "language": "python",
   "name": "python3"
  },
  "language_info": {
   "codemirror_mode": {
    "name": "ipython",
    "version": 3
   },
   "file_extension": ".py",
   "mimetype": "text/x-python",
   "name": "python",
   "nbconvert_exporter": "python",
   "pygments_lexer": "ipython3",
   "version": "3.8.8"
  }
 },
 "nbformat": 4,
 "nbformat_minor": 2
}
